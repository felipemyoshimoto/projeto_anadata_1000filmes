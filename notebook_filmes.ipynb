{
 "cells": [
  {
   "cell_type": "markdown",
   "id": "62ad953f",
   "metadata": {},
   "source": [
    "Análise de filmes de Hollywood 2023"
   ]
  },
  {
   "cell_type": "code",
   "execution_count": null,
   "id": "5d347a72-c835-43fb-9108-525a1ee7d7e5",
   "metadata": {},
   "outputs": [
    {
     "data": {
      "text/html": [
       "<div>\n",
       "<style scoped>\n",
       "    .dataframe tbody tr th:only-of-type {\n",
       "        vertical-align: middle;\n",
       "    }\n",
       "\n",
       "    .dataframe tbody tr th {\n",
       "        vertical-align: top;\n",
       "    }\n",
       "\n",
       "    .dataframe thead th {\n",
       "        text-align: right;\n",
       "    }\n",
       "</style>\n",
       "<table border=\"1\" class=\"dataframe\">\n",
       "  <thead>\n",
       "    <tr style=\"text-align: right;\">\n",
       "      <th></th>\n",
       "      <th>Unnamed: 0</th>\n",
       "      <th>Title</th>\n",
       "      <th>Movie Info</th>\n",
       "      <th>Year</th>\n",
       "      <th>Distributor</th>\n",
       "      <th>Budget (in $)</th>\n",
       "      <th>Domestic Opening (in $)</th>\n",
       "      <th>Domestic Sales (in $)</th>\n",
       "      <th>International Sales (in $)</th>\n",
       "      <th>World Wide Sales (in $)</th>\n",
       "      <th>Release Date</th>\n",
       "      <th>Genre</th>\n",
       "      <th>Running Time</th>\n",
       "      <th>License</th>\n",
       "    </tr>\n",
       "  </thead>\n",
       "  <tbody>\n",
       "    <tr>\n",
       "      <th>0</th>\n",
       "      <td>0</td>\n",
       "      <td>Avatar</td>\n",
       "      <td>A paraplegic Marine dispatched to the moon Pan...</td>\n",
       "      <td>2009</td>\n",
       "      <td>Twentieth Century Fox</td>\n",
       "      <td>237000000</td>\n",
       "      <td>77025481</td>\n",
       "      <td>785221649</td>\n",
       "      <td>2138484377</td>\n",
       "      <td>2923706026</td>\n",
       "      <td>16-Dec-09</td>\n",
       "      <td>['Action', 'Adventure', 'Fantasy', 'Sci-Fi']</td>\n",
       "      <td>2 hr 42 min</td>\n",
       "      <td>PG-13</td>\n",
       "    </tr>\n",
       "    <tr>\n",
       "      <th>1</th>\n",
       "      <td>1</td>\n",
       "      <td>Avengers: Endgame</td>\n",
       "      <td>After the devastating events of Avengers: Infi...</td>\n",
       "      <td>2019</td>\n",
       "      <td>Walt Disney Studios Motion Pictures</td>\n",
       "      <td>356000000</td>\n",
       "      <td>357115007</td>\n",
       "      <td>858373000</td>\n",
       "      <td>1941066100</td>\n",
       "      <td>2799439100</td>\n",
       "      <td>24-Apr-19</td>\n",
       "      <td>['Action', 'Adventure', 'Drama', 'Sci-Fi']</td>\n",
       "      <td>3 hr 1 min</td>\n",
       "      <td>PG-13</td>\n",
       "    </tr>\n",
       "    <tr>\n",
       "      <th>2</th>\n",
       "      <td>2</td>\n",
       "      <td>Avatar: The Way of Water</td>\n",
       "      <td>Jake Sully lives with his newfound family form...</td>\n",
       "      <td>2022</td>\n",
       "      <td>20th Century Studios</td>\n",
       "      <td>December 14 2022 (EMEA APAC)</td>\n",
       "      <td>134100226</td>\n",
       "      <td>684075767</td>\n",
       "      <td>1636174514</td>\n",
       "      <td>2320250281</td>\n",
       "      <td>24-Apr-19</td>\n",
       "      <td>['Action', 'Adventure', 'Drama', 'Sci-Fi']</td>\n",
       "      <td>3 hr 1 min</td>\n",
       "      <td>PG-13</td>\n",
       "    </tr>\n",
       "    <tr>\n",
       "      <th>3</th>\n",
       "      <td>3</td>\n",
       "      <td>Titanic</td>\n",
       "      <td>A seventeen-year-old aristocrat falls in love ...</td>\n",
       "      <td>1997</td>\n",
       "      <td>Paramount Pictures</td>\n",
       "      <td>200000000</td>\n",
       "      <td>28638131</td>\n",
       "      <td>674292608</td>\n",
       "      <td>1590450697</td>\n",
       "      <td>2264743305</td>\n",
       "      <td>19-Dec-97</td>\n",
       "      <td>['Drama', 'Romance']</td>\n",
       "      <td>3 hr 14 min</td>\n",
       "      <td>PG-13</td>\n",
       "    </tr>\n",
       "    <tr>\n",
       "      <th>4</th>\n",
       "      <td>4</td>\n",
       "      <td>Star Wars: Episode VII - The Force Awakens</td>\n",
       "      <td>As a new threat to the galaxy rises, Rey, a de...</td>\n",
       "      <td>2015</td>\n",
       "      <td>Walt Disney Studios Motion Pictures</td>\n",
       "      <td>245000000</td>\n",
       "      <td>247966675</td>\n",
       "      <td>936662225</td>\n",
       "      <td>1134647993</td>\n",
       "      <td>2071310218</td>\n",
       "      <td>16-Dec-15</td>\n",
       "      <td>['Action', 'Adventure', 'Sci-Fi']</td>\n",
       "      <td>2 hr 18 min</td>\n",
       "      <td>PG-13</td>\n",
       "    </tr>\n",
       "  </tbody>\n",
       "</table>\n",
       "</div>"
      ],
      "text/plain": [
       "   Unnamed: 0                                       Title  \\\n",
       "0           0                                      Avatar   \n",
       "1           1                           Avengers: Endgame   \n",
       "2           2                    Avatar: The Way of Water   \n",
       "3           3                                     Titanic   \n",
       "4           4  Star Wars: Episode VII - The Force Awakens   \n",
       "\n",
       "                                          Movie Info  Year  \\\n",
       "0  A paraplegic Marine dispatched to the moon Pan...  2009   \n",
       "1  After the devastating events of Avengers: Infi...  2019   \n",
       "2  Jake Sully lives with his newfound family form...  2022   \n",
       "3  A seventeen-year-old aristocrat falls in love ...  1997   \n",
       "4  As a new threat to the galaxy rises, Rey, a de...  2015   \n",
       "\n",
       "                           Distributor                 Budget (in $)  \\\n",
       "0                Twentieth Century Fox                     237000000   \n",
       "1  Walt Disney Studios Motion Pictures                     356000000   \n",
       "2                 20th Century Studios  December 14 2022 (EMEA APAC)   \n",
       "3                   Paramount Pictures                     200000000   \n",
       "4  Walt Disney Studios Motion Pictures                     245000000   \n",
       "\n",
       "  Domestic Opening (in $)  Domestic Sales (in $)  International Sales (in $)  \\\n",
       "0                77025481              785221649                  2138484377   \n",
       "1               357115007              858373000                  1941066100   \n",
       "2               134100226              684075767                  1636174514   \n",
       "3                28638131              674292608                  1590450697   \n",
       "4               247966675              936662225                  1134647993   \n",
       "\n",
       "   World Wide Sales (in $) Release Date  \\\n",
       "0               2923706026    16-Dec-09   \n",
       "1               2799439100    24-Apr-19   \n",
       "2               2320250281    24-Apr-19   \n",
       "3               2264743305    19-Dec-97   \n",
       "4               2071310218    16-Dec-15   \n",
       "\n",
       "                                          Genre Running Time License  \n",
       "0  ['Action', 'Adventure', 'Fantasy', 'Sci-Fi']  2 hr 42 min   PG-13  \n",
       "1    ['Action', 'Adventure', 'Drama', 'Sci-Fi']   3 hr 1 min   PG-13  \n",
       "2    ['Action', 'Adventure', 'Drama', 'Sci-Fi']   3 hr 1 min   PG-13  \n",
       "3                          ['Drama', 'Romance']  3 hr 14 min   PG-13  \n",
       "4             ['Action', 'Adventure', 'Sci-Fi']  2 hr 18 min   PG-13  "
      ]
     },
     "execution_count": 7,
     "metadata": {},
     "output_type": "execute_result"
    }
   ],
   "source": [
    "# Descidi baixar o dataset via API com \"baixar_dataset.py\" para praticar o uso de APIs e requests\n",
    "# Depois de baixar o dataset, vou explorar os dados com pandas e matplotlib\n",
    "\n",
    "import os\n",
    "import pandas as pd\n",
    "\n",
    "# Carrega o arquivo CSV em um DataFrame do pandas\n",
    "arquivo_csv = os.path.join(\"datasets\", \"movies\", \"Highest_Holywood_Grossing_Movies.csv\")\n",
    "df = pd.read_csv(arquivo_csv)\n",
    "\n",
    "# Visualiza as 5 primeiras linhas do DataFrame\n",
    "df.head()\n"
   ]
  },
  {
   "cell_type": "markdown",
   "id": "61c6c0ee",
   "metadata": {},
   "source": [
    "KPIs Básicos (Lucro e Retorno de Investimento / profit e ROI)"
   ]
  },
  {
   "cell_type": "code",
   "execution_count": null,
   "id": "68ca3525",
   "metadata": {},
   "outputs": [],
   "source": [
    "# Foi necessário cria essa função para limpar valores inválidos que causavam erro na conversão de tipos\n",
    "def limpar_valores(x):\n",
    "    try:\n",
    "        # Remover simbolo e vírgula\n",
    "        x = str(x).replace('$', '').replace(',', '')\n",
    "        #converte para float\n",
    "        return float(x)\n",
    "    except ValueError:\n",
    "        return None\n",
    "    \n",
    "# Aplica a função de limpeza nas colunas 'Budget (in $)' e 'World Wide Sales (in $)'\n",
    "df['Budget (in $)'] = df['Budget (in $)'].apply(limpar_valores)\n",
    "df['World Wide Sales (in $)'] = df['World Wide Sales (in $)'].apply(limpar_valores)\n"
   ]
  },
  {
   "cell_type": "code",
   "execution_count": 9,
   "id": "1bf78c5f",
   "metadata": {},
   "outputs": [],
   "source": [
    "# Cria a coluna de Lucro(profit): receita - orçamento\n",
    "df['Profit'] = df['World Wide Sales (in $)'] - df['Budget (in $)']\n",
    "\n",
    "# Cria a coluna de Retorno de Investimento (ROI - Return on Investment): lucro / orçamento\n",
    "df['ROI'] = df['Profit'] / df['Budget (in $)']\n"
   ]
  },
  {
   "cell_type": "code",
   "execution_count": 10,
   "id": "c2e4e1e0",
   "metadata": {},
   "outputs": [
    {
     "data": {
      "text/html": [
       "<div>\n",
       "<style scoped>\n",
       "    .dataframe tbody tr th:only-of-type {\n",
       "        vertical-align: middle;\n",
       "    }\n",
       "\n",
       "    .dataframe tbody tr th {\n",
       "        vertical-align: top;\n",
       "    }\n",
       "\n",
       "    .dataframe thead th {\n",
       "        text-align: right;\n",
       "    }\n",
       "</style>\n",
       "<table border=\"1\" class=\"dataframe\">\n",
       "  <thead>\n",
       "    <tr style=\"text-align: right;\">\n",
       "      <th></th>\n",
       "      <th>Title</th>\n",
       "      <th>Budget (in $)</th>\n",
       "      <th>World Wide Sales (in $)</th>\n",
       "      <th>Profit</th>\n",
       "      <th>ROI</th>\n",
       "    </tr>\n",
       "  </thead>\n",
       "  <tbody>\n",
       "    <tr>\n",
       "      <th>0</th>\n",
       "      <td>Avatar</td>\n",
       "      <td>237000000.0</td>\n",
       "      <td>2.923706e+09</td>\n",
       "      <td>2.686706e+09</td>\n",
       "      <td>11.336312</td>\n",
       "    </tr>\n",
       "    <tr>\n",
       "      <th>1</th>\n",
       "      <td>Avengers: Endgame</td>\n",
       "      <td>356000000.0</td>\n",
       "      <td>2.799439e+09</td>\n",
       "      <td>2.443439e+09</td>\n",
       "      <td>6.863593</td>\n",
       "    </tr>\n",
       "    <tr>\n",
       "      <th>2</th>\n",
       "      <td>Avatar: The Way of Water</td>\n",
       "      <td>NaN</td>\n",
       "      <td>2.320250e+09</td>\n",
       "      <td>NaN</td>\n",
       "      <td>NaN</td>\n",
       "    </tr>\n",
       "    <tr>\n",
       "      <th>3</th>\n",
       "      <td>Titanic</td>\n",
       "      <td>200000000.0</td>\n",
       "      <td>2.264743e+09</td>\n",
       "      <td>2.064743e+09</td>\n",
       "      <td>10.323717</td>\n",
       "    </tr>\n",
       "    <tr>\n",
       "      <th>4</th>\n",
       "      <td>Star Wars: Episode VII - The Force Awakens</td>\n",
       "      <td>245000000.0</td>\n",
       "      <td>2.071310e+09</td>\n",
       "      <td>1.826310e+09</td>\n",
       "      <td>7.454327</td>\n",
       "    </tr>\n",
       "  </tbody>\n",
       "</table>\n",
       "</div>"
      ],
      "text/plain": [
       "                                        Title  Budget (in $)  \\\n",
       "0                                      Avatar    237000000.0   \n",
       "1                           Avengers: Endgame    356000000.0   \n",
       "2                    Avatar: The Way of Water            NaN   \n",
       "3                                     Titanic    200000000.0   \n",
       "4  Star Wars: Episode VII - The Force Awakens    245000000.0   \n",
       "\n",
       "   World Wide Sales (in $)        Profit        ROI  \n",
       "0             2.923706e+09  2.686706e+09  11.336312  \n",
       "1             2.799439e+09  2.443439e+09   6.863593  \n",
       "2             2.320250e+09           NaN        NaN  \n",
       "3             2.264743e+09  2.064743e+09  10.323717  \n",
       "4             2.071310e+09  1.826310e+09   7.454327  "
      ]
     },
     "execution_count": 10,
     "metadata": {},
     "output_type": "execute_result"
    }
   ],
   "source": [
    "df[['Title', 'Budget (in $)', 'World Wide Sales (in $)', 'Profit', 'ROI']].head()"
   ]
  },
  {
   "cell_type": "markdown",
   "id": "00253dd5",
   "metadata": {},
   "source": [
    "Explorar com visualizações do pyplot"
   ]
  },
  {
   "cell_type": "markdown",
   "id": "a87a7869",
   "metadata": {},
   "source": [
    "1) Gráfico de dispersão: Receita vs Orçamento"
   ]
  },
  {
   "cell_type": "code",
   "execution_count": 12,
   "id": "3fc8683e",
   "metadata": {},
   "outputs": [
    {
     "data": {
      "image/png": "[encoded data removed]",
      "text/plain": [
       "<Figure size 1000x600 with 1 Axes>"
      ]
     },
     "metadata": {},
     "output_type": "display_data"
    }
   ],
   "source": [
    "import matplotlib.pyplot as plt\n",
    "import seaborn as sb\n",
    "\n",
    "# Explorar com visualizações do pyplot\n",
    "# Receita vs Orçamento\n",
    "\n",
    "#Define o tamanho da figura (10 x 6)\n",
    "plt.figure(figsize = (10,6))\n",
    "\n",
    "#Cria um gráfico de dispersão (scatterplot)\n",
    "sb.scatterplot(\n",
    "    data = df, # DataFrame\n",
    "    x = \"Budget (in $)\", # Orçamento\n",
    "    y = \"World Wide Sales (in $)\", # Receita Mundial\n",
    "    hue = \"Year\", # Ano\n",
    "    size = \"Profit\", # Tamanho dos pontos baseado no lucro\n",
    "    palette = \"viridis\", # Paleta de cores\n",
    "    sizes = (20, 200), # Tamanho mínimo e máximo dos pontos\n",
    "    alpha = 0.7   # Transparência dos pontos\n",
    ")\n",
    "\n",
    "#Adiciona título e rótulos aos eixos\n",
    "plt.title(\"Receita vs Orçamento\", fontsize = 14)\n",
    "\n",
    "# Nomeia os eixos\n",
    "plt.xlabel(\"Orçamento (em $)\", fontsize = 12)\n",
    "plt.ylabel(\"Receita Mundial (em $)\", fontsize = 12)\n",
    "\n",
    "# Ajusta a legenda para fora do gráfico (facilita a visualização)\n",
    "plt.legend(bbox_to_anchor=(1.05, 1), loc=2, borderaxespad=0.)\n",
    "\n",
    "# Exibe o gráfico\n",
    "plt.show()"
   ]
  },
  {
   "cell_type": "markdown",
   "id": "842ed2af",
   "metadata": {},
   "source": [
    "2) Gráfico de barras: Receita média por gênero (Top 10)"
   ]
  },
  {
   "cell_type": "code",
   "execution_count": 16,
   "id": "9571f8e7",
   "metadata": {},
   "outputs": [
    {
     "data": {
      "image/png": "[encoded data removed]",
      "text/plain": [
       "<Figure size 1200x600 with 1 Axes>"
      ]
     },
     "metadata": {},
     "output_type": "display_data"
    }
   ],
   "source": [
    "# Garantir que a coluna esteja no formato string e separar os gêneros\n",
    "df[\"Genre\"] = df[\"Genre\"].astype(str).str.replace(\"[\", \"\").str.replace(\"]\", \"\").str.replace(\"'\", \"\")\n",
    "\n",
    "# Precisamos tratar a coluna \"Genre\" (Gênero do filme) pois contém vários gêneros separados por vírgula na mesma célula.\n",
    "# O explode() do pandas ajuda a separar os gêneros criando uma nova linha para cada gênero repetindo o nome do filme.\n",
    "# Assim podemos analisar os gêneros de forma mais eficaz.\n",
    "df_explode = df.assign(Genre=df[\"Genre\"].str.split(\",\")).explode(\"Genre\")\n",
    "df_explode[\"Genre\"] = df_explode[\"Genre\"].str.strip()  # remove espaços extras\n",
    "\n",
    "# Calcular receita média por gênero\n",
    "df_genre_mean = (\n",
    "    df_explode.groupby(\"Genre\")[\"World Wide Sales (in $)\"]\n",
    "    .mean()\n",
    "    .sort_values(ascending=False)\n",
    ")\n",
    "\n",
    "# Plotar apenas os 15 gêneros mais lucrativos\n",
    "top_genres = df_genre_mean.head(10)\n",
    "\n",
    "plt.figure(figsize=(12,6))\n",
    "sb.barplot(x=top_genres.index, y=top_genres.values, palette=\"viridis\")\n",
    "plt.xticks(rotation=45, ha=\"right\")\n",
    "plt.title(\"Top 10 Gêneros com Maior Receita Média (USD)\", fontsize=14)\n",
    "plt.ylabel(\"Receita Média (USD)\")\n",
    "plt.xlabel(\"Gênero\")\n",
    "plt.show()\n"
   ]
  },
  {
   "cell_type": "code",
   "execution_count": 18,
   "id": "7caaba8d",
   "metadata": {},
   "outputs": [
    {
     "data": {
      "application/vnd.plotly.v1+json": {
       "config": {
        "plotlyServerURL": "https://plot.ly"
       },
       "data": [
        {
         "alignmentgroup": "True",
         "hovertemplate": "Genre=%{x}<br>Receita Média Mundial (USD)=%{y}<br>color=%{marker.color}<extra></extra>",
         "legendgroup": "",
         "marker": {
          "color": [
           524357993.86013985,
           518178569.30409354,
           512408369.9423077,
           480151784.1232877,
           473949407.57454544,
           465332656.242126,
           464492720.832618,
           385774104.07236844,
           374073790.83247423,
           368352547.3741259
          ],
          "coloraxis": "coloraxis",
          "pattern": {
           "shape": ""
          }
         },
         "name": "",
         "offsetgroup": "",
         "orientation": "v",
         "showlegend": false,
         "textposition": "auto",
         "type": "bar",
         "x": [
          "Sci-Fi",
          "Adventure",
          "Musical",
          "Animation",
          "Fantasy",
          "Action",
          "Family",
          "Drama",
          "Comedy",
          "Thriller"
         ],
         "xaxis": "x",
         "y": [
          524357993.86013985,
          518178569.30409354,
          512408369.9423077,
          480151784.1232877,
          473949407.57454544,
          465332656.242126,
          464492720.832618,
          385774104.07236844,
          374073790.83247423,
          368352547.3741259
         ],
         "yaxis": "y"
        }
       ],
       "layout": {
        "barmode": "relative",
        "coloraxis": {
         "colorbar": {
          "title": {
           "text": "color"
          }
         },
         "colorscale": [
          [
           0,
           "#440154"
          ],
          [
           0.1111111111111111,
           "#482878"
          ],
          [
           0.2222222222222222,
           "#3e4989"
          ],
          [
           0.3333333333333333,
           "#31688e"
          ],
          [
           0.4444444444444444,
           "#26828e"
          ],
          [
           0.5555555555555556,
           "#1f9e89"
          ],
          [
           0.6666666666666666,
           "#35b779"
          ],
          [
           0.7777777777777778,
           "#6ece58"
          ],
          [
           0.8888888888888888,
           "#b5de2b"
          ],
          [
           1,
           "#fde725"
          ]
         ]
        },
        "legend": {
         "tracegroupgap": 0
        },
        "template": {
         "data": {
          "bar": [
           {
            "error_x": {
             "color": "#2a3f5f"
            },
            "error_y": {
             "color": "#2a3f5f"
            },
            "marker": {
             "line": {
              "color": "#E5ECF6",
              "width": 0.5
             },
             "pattern": {
              "fillmode": "overlay",
              "size": 10,
              "solidity": 0.2
             }
            },
            "type": "bar"
           }
          ],
          "barpolar": [
           {
            "marker": {
             "line": {
              "color": "#E5ECF6",
              "width": 0.5
             },
             "pattern": {
              "fillmode": "overlay",
              "size": 10,
              "solidity": 0.2
             }
            },
            "type": "barpolar"
           }
          ],
          "carpet": [
           {
            "aaxis": {
             "endlinecolor": "#2a3f5f",
             "gridcolor": "white",
             "linecolor": "white",
             "minorgridcolor": "white",
             "startlinecolor": "#2a3f5f"
            },
            "baxis": {
             "endlinecolor": "#2a3f5f",
             "gridcolor": "white",
             "linecolor": "white",
             "minorgridcolor": "white",
             "startlinecolor": "#2a3f5f"
            },
            "type": "carpet"
           }
          ],
          "choropleth": [
           {
            "colorbar": {
             "outlinewidth": 0,
             "ticks": ""
            },
            "type": "choropleth"
           }
          ],
          "contour": [
           {
            "colorbar": {
             "outlinewidth": 0,
             "ticks": ""
            },
            "colorscale": [
             [
              0,
              "#0d0887"
             ],
             [
              0.1111111111111111,
              "#46039f"
             ],
             [
              0.2222222222222222,
              "#7201a8"
             ],
             [
              0.3333333333333333,
              "#9c179e"
             ],
             [
              0.4444444444444444,
              "#bd3786"
             ],
             [
              0.5555555555555556,
              "#d8576b"
             ],
             [
              0.6666666666666666,
              "#ed7953"
             ],
             [
              0.7777777777777778,
              "#fb9f3a"
             ],
             [
              0.8888888888888888,
              "#fdca26"
             ],
             [
              1,
              "#f0f921"
             ]
            ],
            "type": "contour"
           }
          ],
          "contourcarpet": [
           {
            "colorbar": {
             "outlinewidth": 0,
             "ticks": ""
            },
            "type": "contourcarpet"
           }
          ],
          "heatmap": [
           {
            "colorbar": {
             "outlinewidth": 0,
             "ticks": ""
            },
            "colorscale": [
             [
              0,
              "#0d0887"
             ],
             [
              0.1111111111111111,
              "#46039f"
             ],
             [
              0.2222222222222222,
              "#7201a8"
             ],
             [
              0.3333333333333333,
              "#9c179e"
             ],
             [
              0.4444444444444444,
              "#bd3786"
             ],
             [
              0.5555555555555556,
              "#d8576b"
             ],
             [
              0.6666666666666666,
              "#ed7953"
             ],
             [
              0.7777777777777778,
              "#fb9f3a"
             ],
             [
              0.8888888888888888,
              "#fdca26"
             ],
             [
              1,
              "#f0f921"
             ]
            ],
            "type": "heatmap"
           }
          ],
          "heatmapgl": [
           {
            "colorbar": {
             "outlinewidth": 0,
             "ticks": ""
            },
            "colorscale": [
             [
              0,
              "#0d0887"
             ],
             [
              0.1111111111111111,
              "#46039f"
             ],
             [
              0.2222222222222222,
              "#7201a8"
             ],
             [
              0.3333333333333333,
              "#9c179e"
             ],
             [
              0.4444444444444444,
              "#bd3786"
             ],
             [
              0.5555555555555556,
              "#d8576b"
             ],
             [
              0.6666666666666666,
              "#ed7953"
             ],
             [
              0.7777777777777778,
              "#fb9f3a"
             ],
             [
              0.8888888888888888,
              "#fdca26"
             ],
             [
              1,
              "#f0f921"
             ]
            ],
            "type": "heatmapgl"
           }
          ],
          "histogram": [
           {
            "marker": {
             "pattern": {
              "fillmode": "overlay",
              "size": 10,
              "solidity": 0.2
             }
            },
            "type": "histogram"
           }
          ],
          "histogram2d": [
           {
            "colorbar": {
             "outlinewidth": 0,
             "ticks": ""
            },
            "colorscale": [
             [
              0,
              "#0d0887"
             ],
             [
              0.1111111111111111,
              "#46039f"
             ],
             [
              0.2222222222222222,
              "#7201a8"
             ],
             [
              0.3333333333333333,
              "#9c179e"
             ],
             [
              0.4444444444444444,
              "#bd3786"
             ],
             [
              0.5555555555555556,
              "#d8576b"
             ],
             [
              0.6666666666666666,
              "#ed7953"
             ],
             [
              0.7777777777777778,
              "#fb9f3a"
             ],
             [
              0.8888888888888888,
              "#fdca26"
             ],
             [
              1,
              "#f0f921"
             ]
            ],
            "type": "histogram2d"
           }
          ],
          "histogram2dcontour": [
           {
            "colorbar": {
             "outlinewidth": 0,
             "ticks": ""
            },
            "colorscale": [
             [
              0,
              "#0d0887"
             ],
             [
              0.1111111111111111,
              "#46039f"
             ],
             [
              0.2222222222222222,
              "#7201a8"
             ],
             [
              0.3333333333333333,
              "#9c179e"
             ],
             [
              0.4444444444444444,
              "#bd3786"
             ],
             [
              0.5555555555555556,
              "#d8576b"
             ],
             [
              0.6666666666666666,
              "#ed7953"
             ],
             [
              0.7777777777777778,
              "#fb9f3a"
             ],
             [
              0.8888888888888888,
              "#fdca26"
             ],
             [
              1,
              "#f0f921"
             ]
            ],
            "type": "histogram2dcontour"
           }
          ],
          "mesh3d": [
           {
            "colorbar": {
             "outlinewidth": 0,
             "ticks": ""
            },
            "type": "mesh3d"
           }
          ],
          "parcoords": [
           {
            "line": {
             "colorbar": {
              "outlinewidth": 0,
              "ticks": ""
             }
            },
            "type": "parcoords"
           }
          ],
          "pie": [
           {
            "automargin": true,
            "type": "pie"
           }
          ],
          "scatter": [
           {
            "fillpattern": {
             "fillmode": "overlay",
             "size": 10,
             "solidity": 0.2
            },
            "type": "scatter"
           }
          ],
          "scatter3d": [
           {
            "line": {
             "colorbar": {
              "outlinewidth": 0,
              "ticks": ""
             }
            },
            "marker": {
             "colorbar": {
              "outlinewidth": 0,
              "ticks": ""
             }
            },
            "type": "scatter3d"
           }
          ],
          "scattercarpet": [
           {
            "marker": {
             "colorbar": {
              "outlinewidth": 0,
              "ticks": ""
             }
            },
            "type": "scattercarpet"
           }
          ],
          "scattergeo": [
           {
            "marker": {
             "colorbar": {
              "outlinewidth": 0,
              "ticks": ""
             }
            },
            "type": "scattergeo"
           }
          ],
          "scattergl": [
           {
            "marker": {
             "colorbar": {
              "outlinewidth": 0,
              "ticks": ""
             }
            },
            "type": "scattergl"
           }
          ],
          "scattermapbox": [
           {
            "marker": {
             "colorbar": {
              "outlinewidth": 0,
              "ticks": ""
             }
            },
            "type": "scattermapbox"
           }
          ],
          "scatterpolar": [
           {
            "marker": {
             "colorbar": {
              "outlinewidth": 0,
              "ticks": ""
             }
            },
            "type": "scatterpolar"
           }
          ],
          "scatterpolargl": [
           {
            "marker": {
             "colorbar": {
              "outlinewidth": 0,
              "ticks": ""
             }
            },
            "type": "scatterpolargl"
           }
          ],
          "scatterternary": [
           {
            "marker": {
             "colorbar": {
              "outlinewidth": 0,
              "ticks": ""
             }
            },
            "type": "scatterternary"
           }
          ],
          "surface": [
           {
            "colorbar": {
             "outlinewidth": 0,
             "ticks": ""
            },
            "colorscale": [
             [
              0,
              "#0d0887"
             ],
             [
              0.1111111111111111,
              "#46039f"
             ],
             [
              0.2222222222222222,
              "#7201a8"
             ],
             [
              0.3333333333333333,
              "#9c179e"
             ],
             [
              0.4444444444444444,
              "#bd3786"
             ],
             [
              0.5555555555555556,
              "#d8576b"
             ],
             [
              0.6666666666666666,
              "#ed7953"
             ],
             [
              0.7777777777777778,
              "#fb9f3a"
             ],
             [
              0.8888888888888888,
              "#fdca26"
             ],
             [
              1,
              "#f0f921"
             ]
            ],
            "type": "surface"
           }
          ],
          "table": [
           {
            "cells": {
             "fill": {
              "color": "#EBF0F8"
             },
             "line": {
              "color": "white"
             }
            },
            "header": {
             "fill": {
              "color": "#C8D4E3"
             },
             "line": {
              "color": "white"
             }
            },
            "type": "table"
           }
          ]
         },
         "layout": {
          "annotationdefaults": {
           "arrowcolor": "#2a3f5f",
           "arrowhead": 0,
           "arrowwidth": 1
          },
          "autotypenumbers": "strict",
          "coloraxis": {
           "colorbar": {
            "outlinewidth": 0,
            "ticks": ""
           }
          },
          "colorscale": {
           "diverging": [
            [
             0,
             "#8e0152"
            ],
            [
             0.1,
             "#c51b7d"
            ],
            [
             0.2,
             "#de77ae"
            ],
            [
             0.3,
             "#f1b6da"
            ],
            [
             0.4,
             "#fde0ef"
            ],
            [
             0.5,
             "#f7f7f7"
            ],
            [
             0.6,
             "#e6f5d0"
            ],
            [
             0.7,
             "#b8e186"
            ],
            [
             0.8,
             "#7fbc41"
            ],
            [
             0.9,
             "#4d9221"
            ],
            [
             1,
             "#276419"
            ]
           ],
           "sequential": [
            [
             0,
             "#0d0887"
            ],
            [
             0.1111111111111111,
             "#46039f"
            ],
            [
             0.2222222222222222,
             "#7201a8"
            ],
            [
             0.3333333333333333,
             "#9c179e"
            ],
            [
             0.4444444444444444,
             "#bd3786"
            ],
            [
             0.5555555555555556,
             "#d8576b"
            ],
            [
             0.6666666666666666,
             "#ed7953"
            ],
            [
             0.7777777777777778,
             "#fb9f3a"
            ],
            [
             0.8888888888888888,
             "#fdca26"
            ],
            [
             1,
             "#f0f921"
            ]
           ],
           "sequentialminus": [
            [
             0,
             "#0d0887"
            ],
            [
             0.1111111111111111,
             "#46039f"
            ],
            [
             0.2222222222222222,
             "#7201a8"
            ],
            [
             0.3333333333333333,
             "#9c179e"
            ],
            [
             0.4444444444444444,
             "#bd3786"
            ],
            [
             0.5555555555555556,
             "#d8576b"
            ],
            [
             0.6666666666666666,
             "#ed7953"
            ],
            [
             0.7777777777777778,
             "#fb9f3a"
            ],
            [
             0.8888888888888888,
             "#fdca26"
            ],
            [
             1,
             "#f0f921"
            ]
           ]
          },
          "colorway": [
           "#636efa",
           "#EF553B",
           "#00cc96",
           "#ab63fa",
           "#FFA15A",
           "#19d3f3",
           "#FF6692",
           "#B6E880",
           "#FF97FF",
           "#FECB52"
          ],
          "font": {
           "color": "#2a3f5f"
          },
          "geo": {
           "bgcolor": "white",
           "lakecolor": "white",
           "landcolor": "#E5ECF6",
           "showlakes": true,
           "showland": true,
           "subunitcolor": "white"
          },
          "hoverlabel": {
           "align": "left"
          },
          "hovermode": "closest",
          "mapbox": {
           "style": "light"
          },
          "paper_bgcolor": "white",
          "plot_bgcolor": "#E5ECF6",
          "polar": {
           "angularaxis": {
            "gridcolor": "white",
            "linecolor": "white",
            "ticks": ""
           },
           "bgcolor": "#E5ECF6",
           "radialaxis": {
            "gridcolor": "white",
            "linecolor": "white",
            "ticks": ""
           }
          },
          "scene": {
           "xaxis": {
            "backgroundcolor": "#E5ECF6",
            "gridcolor": "white",
            "gridwidth": 2,
            "linecolor": "white",
            "showbackground": true,
            "ticks": "",
            "zerolinecolor": "white"
           },
           "yaxis": {
            "backgroundcolor": "#E5ECF6",
            "gridcolor": "white",
            "gridwidth": 2,
            "linecolor": "white",
            "showbackground": true,
            "ticks": "",
            "zerolinecolor": "white"
           },
           "zaxis": {
            "backgroundcolor": "#E5ECF6",
            "gridcolor": "white",
            "gridwidth": 2,
            "linecolor": "white",
            "showbackground": true,
            "ticks": "",
            "zerolinecolor": "white"
           }
          },
          "shapedefaults": {
           "line": {
            "color": "#2a3f5f"
           }
          },
          "ternary": {
           "aaxis": {
            "gridcolor": "white",
            "linecolor": "white",
            "ticks": ""
           },
           "baxis": {
            "gridcolor": "white",
            "linecolor": "white",
            "ticks": ""
           },
           "bgcolor": "#E5ECF6",
           "caxis": {
            "gridcolor": "white",
            "linecolor": "white",
            "ticks": ""
           }
          },
          "title": {
           "x": 0.05
          },
          "xaxis": {
           "automargin": true,
           "gridcolor": "white",
           "linecolor": "white",
           "ticks": "",
           "title": {
            "standoff": 15
           },
           "zerolinecolor": "white",
           "zerolinewidth": 2
          },
          "yaxis": {
           "automargin": true,
           "gridcolor": "white",
           "linecolor": "white",
           "ticks": "",
           "title": {
            "standoff": 15
           },
           "zerolinecolor": "white",
           "zerolinewidth": 2
          }
         }
        },
        "title": {
         "text": "Top 10 Gêneros com Maior Receita Média (em USD)"
        },
        "xaxis": {
         "anchor": "y",
         "domain": [
          0,
          1
         ],
         "tickangle": -45,
         "title": {
          "text": "Genre"
         }
        },
        "yaxis": {
         "anchor": "x",
         "domain": [
          0,
          1
         ],
         "title": {
          "text": "Receita Média Mundial (USD)"
         }
        }
       }
      }
     },
     "metadata": {},
     "output_type": "display_data"
    }
   ],
   "source": [
    "# Outro gráfico de barras usando plotly para interatividade\n",
    "# Ao passar o mouse sobre as barras, podemos ver os valores exatos\n",
    "# Além disso, podemos ampliar e salvar o gráfico como imagem\n",
    "import plotly.express as px\n",
    "\n",
    "fig = px.bar(\n",
    "    top_genres, \n",
    "    x=top_genres.index, # Gênero\n",
    "    y=top_genres.values, # Receita Média\n",
    "    labels={\"x\": \"Gênero\", \"y\": \"Receita Média Mundial (USD)\"}, # Rótulos dos eixos\n",
    "    title=\"Top 10 Gêneros com Maior Receita Média (em USD)\", # Título do gráfico\n",
    "    color=top_genres.values, # Cor baseada na receita média\n",
    "    color_continuous_scale=\"viridis\" # Escala de cores \n",
    ")\n",
    "\n",
    "fig.update_layout(xaxis_tickangle=-45)\n",
    "fig.show()\n"
   ]
  }
 ],
 "metadata": {
  "kernelspec": {
   "display_name": "Python 3",
   "language": "python",
   "name": "python3"
  },
  "language_info": {
   "codemirror_mode": {
    "name": "ipython",
    "version": 3
   },
   "file_extension": ".py",
   "mimetype": "text/x-python",
   "name": "python",
   "nbconvert_exporter": "python",
   "pygments_lexer": "ipython3",
   "version": "3.10.11"
  }
 },
 "nbformat": 4,
 "nbformat_minor": 5
}
